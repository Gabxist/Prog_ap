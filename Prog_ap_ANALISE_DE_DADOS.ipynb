{
  "nbformat": 4,
  "nbformat_minor": 0,
  "metadata": {
    "colab": {
      "provenance": [],
      "authorship_tag": "ABX9TyNptimMjpbrTl+xRyiLLNL/",
      "include_colab_link": true
    },
    "kernelspec": {
      "name": "python3",
      "display_name": "Python 3"
    },
    "language_info": {
      "name": "python"
    }
  },
  "cells": [
    {
      "cell_type": "markdown",
      "metadata": {
        "id": "view-in-github",
        "colab_type": "text"
      },
      "source": [
        "<a href=\"https://colab.research.google.com/github/Gabxist/Prog_ap/blob/main/Prog_ap_ANALISE_DE_DADOS.ipynb\" target=\"_parent\"><img src=\"https://colab.research.google.com/assets/colab-badge.svg\" alt=\"Open In Colab\"/></a>"
      ]
    },
    {
      "cell_type": "code",
      "execution_count": null,
      "metadata": {
        "id": "qsX8Bfhffzn-"
      },
      "outputs": [],
      "source": [
        "import pandas as pd\n",
        "import numpy as np"
      ]
    },
    {
      "cell_type": "code",
      "source": [
        "!rm -r Prog_ap\n",
        "!git clone https://github.com/Gabxist/Prog_ap.git"
      ],
      "metadata": {
        "colab": {
          "base_uri": "https://localhost:8080/"
        },
        "id": "o_1f0FP0gdDs",
        "outputId": "27fbb19b-3daa-425c-96b3-aaa1453ffa25"
      },
      "execution_count": null,
      "outputs": [
        {
          "output_type": "stream",
          "name": "stdout",
          "text": [
            "rm: cannot remove 'Prog_ap': No such file or directory\n",
            "Cloning into 'Prog_ap'...\n",
            "remote: Enumerating objects: 10, done.\u001b[K\n",
            "remote: Counting objects: 100% (10/10), done.\u001b[K\n",
            "remote: Compressing objects: 100% (10/10), done.\u001b[K\n",
            "remote: Total 10 (delta 2), reused 0 (delta 0), pack-reused 0 (from 0)\u001b[K\n",
            "Receiving objects: 100% (10/10), 1.09 MiB | 2.38 MiB/s, done.\n",
            "Resolving deltas: 100% (2/2), done.\n"
          ]
        }
      ]
    },
    {
      "cell_type": "code",
      "source": [
        "pa_digit = pd.read_csv('/content/Prog_ap/PAs Digitalizados.csv', sep=\";\",skip_blank_lines=True)\n",
        "proc_adm = pd.read_csv('/content/Prog_ap/Processos_Administrativos.csv', sep=\";\",skip_blank_lines=True)"
      ],
      "metadata": {
        "id": "7xcu7jRej0h_"
      },
      "execution_count": null,
      "outputs": []
    },
    {
      "cell_type": "code",
      "source": [
        "print(list(proc_adm.columns))"
      ],
      "metadata": {
        "colab": {
          "base_uri": "https://localhost:8080/"
        },
        "id": "7UqZjO_JoFSn",
        "outputId": "396e3f23-2b6b-43fe-ec35-07d2ded033ff"
      },
      "execution_count": null,
      "outputs": [
        {
          "output_type": "stream",
          "name": "stdout",
          "text": [
            "['Processo SEI', 'Nome Outorgado', 'CPF/CNPJ Outorgado', 'Cônjuge Outorgado', 'CPF Cônjuge', 'Imóvel', 'Gleba/Agrovila/Setor', 'Lote/Parcela', 'Município', 'Tipo', 'Especificação para Inclusão no SEI', 'Informações para o Termo de Encerramento', 'Nº Folhas', 'Desconformidades', 'Digitalizador', 'Data da Digitalização', 'Responsável pela Indexação ao SEI', 'Data da Indexação ao SEI', 'Observações', 'Link no SEI', 'Situação', 'Responsável Autenticação', 'Qualidade', 'Origem']\n"
          ]
        }
      ]
    },
    {
      "cell_type": "code",
      "source": [
        "print(pa_digit.loc[1])"
      ],
      "metadata": {
        "colab": {
          "base_uri": "https://localhost:8080/"
        },
        "id": "pNY7NAJ4Xwbs",
        "outputId": "dc7da8ca-fadb-4876-e072-b1c09a47bc70"
      },
      "execution_count": 12,
      "outputs": [
        {
          "output_type": "stream",
          "name": "stdout",
          "text": [
            "PA                                                                                08 DE ABRIL\n",
            "Processo Desenv. PA                                  PROCESSO DESENV. PA_-3794081395344042407\n",
            "Processo SEI                                                PROCESSO SEI_-6720489492943253348\n",
            "Código SIPRA                                                 CÓDIGO SIPRA_9074017149695983452\n",
            "Nome do Titular 1                                      NOME DO TITULAR 1_-2244833870598802831\n",
            "CPF T1                                                             CPF T1_4126299280274387702\n",
            "VALIDAÇÃO CPF T1                                                                          NaN\n",
            "Nome do Titular 2                                      NOME DO TITULAR 2_-7305887493261903800\n",
            "CPF T2                                                            CPF T2_-6922023377156221764\n",
            "VALIDAÇÃO CPF T2                                                                          NaN\n",
            "Lote/Parcela                                                                              157\n",
            "Município                                                                       JARDIM ALEGRE\n",
            "Tipo                                                                                   AVULSO\n",
            "Especificação para Inclusão no SEI          ESPECIFICAÇÃO PARA INCLUSÃO NO SEI_55732516203...\n",
            "Informações para o Termo de Encerramento    INFORMAÇÕES PARA O TERMO DE ENCERRAMENTO_36743...\n",
            "Nº Folhas                                                                                 3.0\n",
            "Desconformidades                                                                          N/C\n",
            "Digitalizador                                                                            ANNE\n",
            "Data da Digitalização                                                     2023-09-14 00:00:00\n",
            "Responsável pela Indexação ao SEI                                                   FERNANDA \n",
            "Data da Indexação ao SEI                                                  2024-03-21 00:00:00\n",
            "Observações                                                                Documentos Avulsos\n",
            "Link no SEI                                                  LINK NO SEI_-1072067091478719314\n",
            "Situação                                             INSERIDO NO SEI - AGUARDANDO CONFERÊNCIA\n",
            "Responsável Autenticação                                                                  NaN\n",
            "Qualidade                                                                               DAISY\n",
            "Origem                                                                      PAs Digitalizados\n",
            "Name: 1, dtype: object\n"
          ]
        }
      ]
    },
    {
      "cell_type": "code",
      "source": [],
      "metadata": {
        "id": "c-wFco7DX2Ap"
      },
      "execution_count": null,
      "outputs": []
    },
    {
      "cell_type": "markdown",
      "source": [
        "Identificar por exemplo, relação entre tamanho do arquivo (nº de folhas) e data de digitalização / data de indexação\n",
        "quantidade de processos por responsável Autenticação, etc\n",
        "Dados relevantes:\n",
        "\n",
        "*   Município\n",
        "*   Nº folhas\n",
        "*   Desconformidades\n",
        "*   Digitalizador\n",
        "*   Data da Digitalização\n",
        "*   Responsável peça Indexação ao SEI\n",
        "*   Data da Indexação ao SEI\n",
        "*   Qualidade (responsável pela verificação da qualidade)\n",
        "\n",
        "\n",
        "\n"
      ],
      "metadata": {
        "id": "w156rOasYPQC"
      }
    },
    {
      "cell_type": "code",
      "source": [],
      "metadata": {
        "id": "Bsm8Q6ePZcOc"
      },
      "execution_count": null,
      "outputs": []
    }
  ]
}